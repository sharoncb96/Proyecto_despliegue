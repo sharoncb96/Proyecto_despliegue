{
 "cells": [
  {
   "cell_type": "markdown",
   "id": "7bada544-1c0c-4a97-9126-099689f043dd",
   "metadata": {},
   "source": [
    "# Proyecto de Segmentación Retail - Clustering\n",
    "\n",
    "Proyecto Despliegue, en Github y versionado con DVC para realizar un análisis colaborativo por etapas.\n",
    "\n",
    "--------------------------------------\n"
   ]
  },
  {
   "cell_type": "code",
   "execution_count": 1,
   "id": "906cc00e-39e4-4910-bf61-71427f576654",
   "metadata": {},
   "outputs": [],
   "source": [
    "#librerias\n",
    "import pandas as pd\n",
    "import numpy as np\n",
    "import matplotlib.pyplot as plt\n",
    "from sklearn.preprocessing import StandardScaler\n",
    "from sklearn.cluster import KMeans\n",
    "from sklearn.metrics import silhouette_score, davies_bouldin_score\n",
    "from scipy.stats import entropy\n",
    "\n",
    "# Configuración general\n",
    "pd.set_option('display.max_columns', None)"
   ]
  },
  {
   "cell_type": "code",
   "execution_count": 2,
   "id": "491d0f50-c140-4228-aaa4-530beeb598d0",
   "metadata": {},
   "outputs": [
    {
     "name": "stdout",
     "output_type": "stream",
     "text": [
      "Pedidos: (5000, 31)\n",
      "Productos: (268, 6)\n",
      "Clientes: (2501, 8)\n"
     ]
    }
   ],
   "source": [
    "# Carga de datos desde el archivo versionado con DVC\n",
    "pedidos = pd.read_excel('../data/Data_Set_Global.xlsx', sheet_name='Pedidos')\n",
    "productos = pd.read_excel('../data/Data_Set_Global.xlsx', sheet_name='Productos')\n",
    "clientes = pd.read_excel('../data/Data_Set_Global.xlsx', sheet_name='Clientes')\n",
    "\n",
    "# Mostrar las dimensiones\n",
    "print(f\"Pedidos: {pedidos.shape}\")\n",
    "print(f\"Productos: {productos.shape}\")\n",
    "print(f\"Clientes: {clientes.shape}\")"
   ]
  },
  {
   "cell_type": "code",
   "execution_count": null,
   "id": "a13afe9a-a340-4f3c-b51c-497ef60bd85b",
   "metadata": {},
   "outputs": [],
   "source": []
  },
  {
   "cell_type": "code",
   "execution_count": null,
   "id": "7fe38b6c-b696-4392-9be4-7c766b4e7caa",
   "metadata": {},
   "outputs": [],
   "source": []
  },
  {
   "cell_type": "code",
   "execution_count": null,
   "id": "aca77726-5620-4170-a79f-bb2949dd0fd0",
   "metadata": {},
   "outputs": [],
   "source": []
  },
  {
   "cell_type": "code",
   "execution_count": null,
   "id": "facc463a-d3dd-43fa-9e77-77ab51c70652",
   "metadata": {},
   "outputs": [],
   "source": []
  }
 ],
 "metadata": {
  "kernelspec": {
   "display_name": "Python 3 (ipykernel)",
   "language": "python",
   "name": "python3"
  },
  "language_info": {
   "codemirror_mode": {
    "name": "ipython",
    "version": 3
   },
   "file_extension": ".py",
   "mimetype": "text/x-python",
   "name": "python",
   "nbconvert_exporter": "python",
   "pygments_lexer": "ipython3",
   "version": "3.11.7"
  }
 },
 "nbformat": 4,
 "nbformat_minor": 5
}
